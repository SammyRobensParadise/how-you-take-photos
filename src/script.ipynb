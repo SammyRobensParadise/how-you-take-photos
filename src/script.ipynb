{
 "cells": [
  {
   "cell_type": "markdown",
   "metadata": {},
   "source": [
    "# How You Take Photos\n",
    "This is a python script that visualizes the settings that you have on your camera across a set of photos you take"
   ]
  },
  {
   "cell_type": "markdown",
   "metadata": {},
   "source": [
    "## Include All the Dependencies\n",
    "First you will need:\n",
    "- [Python 3](https://www.python.org/downloads/)\n",
    "- [Homebrew](https://brew.sh)\n",
    "- [pip](https://pip.pypa.io/en/stable/installation/) (You can also use Conda but)\n",
    "- [Juypter Notebook](https://jupyter.org/install)\n",
    "\n",
    "lets include all the depdencies. Before you begin, make sure you have installed the depencies.\n",
    "You can do this by running `Make install` which will install the dependencies in `requirements.text`. You can also manually install the dependencies listed below."
   ]
  },
  {
   "cell_type": "markdown",
   "metadata": {},
   "source": [
    "## Install Dependencies"
   ]
  },
  {
   "cell_type": "code",
   "execution_count": 17,
   "metadata": {},
   "outputs": [],
   "source": [
    "# install dependencies\n",
    "import numpy as np\n",
    "import matplotlib.pyplot as plt\n",
    "from PIL import Image\n",
    "from PIL.ExifTags import TAGS\n",
    "import os"
   ]
  },
  {
   "cell_type": "markdown",
   "metadata": {},
   "source": [
    "Input the file path to the folder containing the images you want to visualize"
   ]
  },
  {
   "cell_type": "code",
   "execution_count": 18,
   "metadata": {},
   "outputs": [
    {
     "name": "stdout",
     "output_type": "stream",
     "text": [
      "Loading images from /Users/sammyrobens-paradise/Desktop/lights...\n",
      "163images found in /Users/sammyrobens-paradise/Desktop/lights\n"
     ]
    }
   ],
   "source": [
    "path_to_image_dir = input(\"Enter the complete path to the image folder\")\n",
    "print(\"Loading images from \" + path_to_image_dir + \"...\")\n",
    "\n",
    "directory = os.fsencode(path_to_image_dir)\n",
    "\n",
    "images = os.listdir(directory)\n",
    "num_images = len(images)\n",
    "print(str(num_images) + \" images found in \" + path_to_image_dir)\n"
   ]
  }
 ],
 "metadata": {
  "kernelspec": {
   "display_name": "Python 3",
   "language": "python",
   "name": "python3"
  },
  "language_info": {
   "codemirror_mode": {
    "name": "ipython",
    "version": 3
   },
   "file_extension": ".py",
   "mimetype": "text/x-python",
   "name": "python",
   "nbconvert_exporter": "python",
   "pygments_lexer": "ipython3",
   "version": "3.12.2"
  }
 },
 "nbformat": 4,
 "nbformat_minor": 2
}
