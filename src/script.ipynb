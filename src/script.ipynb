{
 "cells": [
  {
   "cell_type": "markdown",
   "metadata": {},
   "source": [
    "# How You Take Photos\n",
    "\n",
    "This is a python script that visualizes the settings that you have on your camera across a set of photos you take\n"
   ]
  },
  {
   "cell_type": "markdown",
   "metadata": {},
   "source": [
    "/Users/sammyrobens-paradise/Desktop/lights\n"
   ]
  },
  {
   "cell_type": "markdown",
   "metadata": {},
   "source": [
    "## Include All the Dependencies\n",
    "\n",
    "First you will need:\n",
    "\n",
    "- [Python 3](https://www.python.org/downloads/)\n",
    "- [Homebrew](https://brew.sh)\n",
    "- [pip](https://pip.pypa.io/en/stable/installation/) (You can also use Conda but)\n",
    "- [Juypter Notebook](https://jupyter.org/install)\n",
    "\n",
    "lets include all the depdencies. Before you begin, make sure you have installed the depencies.\n",
    "You can do this by running `Make install` which will install the dependencies in `requirements.text`. You can also manually install the dependencies listed below.\n"
   ]
  },
  {
   "cell_type": "markdown",
   "metadata": {},
   "source": [
    "## Install Dependencies\n"
   ]
  },
  {
   "cell_type": "code",
   "execution_count": 45,
   "metadata": {},
   "outputs": [],
   "source": [
    "# install dependencies\n",
    "import numpy as np\n",
    "import matplotlib.pyplot as plt\n",
    "from PIL import Image, ExifTags\n",
    "from PIL.ExifTags import TAGS\n",
    "from typing import TypedDict\n",
    "import glob\n",
    "import os"
   ]
  },
  {
   "cell_type": "markdown",
   "metadata": {},
   "source": [
    "Input the file path to the folder containing the images you want to visualize\n"
   ]
  },
  {
   "cell_type": "code",
   "execution_count": 46,
   "metadata": {},
   "outputs": [
    {
     "name": "stdout",
     "output_type": "stream",
     "text": [
      "Loading images from /Users/sammyrobens-paradise/Desktop/lights...\n",
      "162 images found in /Users/sammyrobens-paradise/Desktop/lights\n"
     ]
    }
   ],
   "source": [
    "# path_to_image_dir = input(\"Enter the complete path to the image folder\")\n",
    "path_to_image_dir = \"/Users/sammyrobens-paradise/Desktop/lights\"\n",
    "print(\"Loading images from \" + path_to_image_dir + \"...\")\n",
    "\n",
    "directory = os.fsencode(path_to_image_dir)\n",
    "image_paths = glob.glob(path_to_image_dir + \"/*\")\n",
    "num_images = len(image_paths)\n",
    "print(str(num_images) + \" images found in \" + path_to_image_dir)"
   ]
  },
  {
   "cell_type": "code",
   "execution_count": 47,
   "metadata": {},
   "outputs": [],
   "source": [
    "# Define all our classes, types and helper functions\n",
    "class Exif(TypedDict):\n",
    "    ResolutionUnit: int\n",
    "    ExifOffset: int\n",
    "    Make: str\n",
    "    Model: str\n",
    "    Software: str\n",
    "    DateTime: str\n",
    "    XResolution: float\n",
    "    YResolution: float\n",
    "    ExitVersion: bytes\n",
    "    ShutterSpeedValue: float\n",
    "    ApertureValue: float\n",
    "    DateTimeOriginal: str\n",
    "    DateTimeDigitized: str\n",
    "    ExposureBiasValue: float\n",
    "    MaxApertureValue: float\n",
    "    MeteringMode: int\n",
    "    ColorSpace: int\n",
    "    Flash: int\n",
    "    FocalLength: float\n",
    "    ExposureMode: int\n",
    "    WhiteBalance: int\n",
    "    SceneCaptureType: int\n",
    "    FocalPlaneXResolution: float\n",
    "    FocalPlaneYResolution: float\n",
    "    OffsetTime: str\n",
    "    SubsecTimeOriginal: str\n",
    "    SubsecTimeDigitized: str\n",
    "    FocalPlaneResolutionUnit: int\n",
    "    ExposureTime: float\n",
    "    FNumber: float\n",
    "    ExposureProgram: int\n",
    "    CustomRendered: int\n",
    "    ISOSpeedRatings: int\n",
    "    SensitivityType: int\n",
    "    RecommendedExposureIndex: int\n",
    "    LensSpecification: list[float, float, float, float]\n",
    "    LensModel: str\n",
    "    LensSerialNumber: str\n",
    "\n",
    "\n",
    "class ImageMetadata:\n",
    "    def __init__(self, filepath: str):\n",
    "        source = Image.open(filepath)\n",
    "        self.source = source\n",
    "        self.exif: Exif = {\n",
    "            ExifTags.TAGS[k]: v\n",
    "            for k, v in source._getexif().items()\n",
    "            if k in ExifTags.TAGS\n",
    "        }\n"
   ]
  },
  {
   "cell_type": "markdown",
   "metadata": {},
   "source": [
    "## Generate a `data` list\n",
    "The list contains all of our images and their standard `exif` tagged metadata stored as an `ImageMetadata` object"
   ]
  },
  {
   "cell_type": "code",
   "execution_count": 48,
   "metadata": {},
   "outputs": [],
   "source": [
    "data = []\n",
    "for path in image_paths:\n",
    "    curImage = ImageMetadata(path)\n",
    "    data.append(curImage)"
   ]
  },
  {
   "cell_type": "markdown",
   "metadata": {},
   "source": [
    "## Now lets get into plotting some data..."
   ]
  },
  {
   "cell_type": "markdown",
   "metadata": {},
   "source": [
    "### Resolutions\n",
    "lets plot the focal plane resolutions of the pictures that you take as $(x,y)$ coordinates"
   ]
  },
  {
   "cell_type": "code",
   "execution_count": null,
   "metadata": {},
   "outputs": [],
   "source": []
  }
 ],
 "metadata": {
  "kernelspec": {
   "display_name": "Python 3",
   "language": "python",
   "name": "python3"
  },
  "language_info": {
   "codemirror_mode": {
    "name": "ipython",
    "version": 3
   },
   "file_extension": ".py",
   "mimetype": "text/x-python",
   "name": "python",
   "nbconvert_exporter": "python",
   "pygments_lexer": "ipython3",
   "version": "3.12.2"
  }
 },
 "nbformat": 4,
 "nbformat_minor": 2
}
