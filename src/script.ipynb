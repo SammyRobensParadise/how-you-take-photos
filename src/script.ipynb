{
 "cells": [
  {
   "cell_type": "markdown",
   "metadata": {},
   "source": [
    "# How You Take Photos\n",
    "This is a python script that visualizes the settings that you have on your camera across a set of photos you take"
   ]
  },
  {
   "cell_type": "markdown",
   "metadata": {},
   "source": [
    "## Include All the Dependencies\n",
    "First you will need:\n",
    "- [Python 3](https://www.python.org/downloads/)\n",
    "- [Homebrew](https://brew.sh)\n",
    "- [pip](https://pip.pypa.io/en/stable/installation/) (You can also use Conda but)\n",
    "- [Juypter Notebook](https://jupyter.org/install)\n",
    "\n",
    "lets include all the depdencies. Before you begin, make sure you have installed the depencies.\n",
    "You can do this by running `Make install` which will install the dependencies in `requirements.text`. You can also manually install the dependencies listed below."
   ]
  },
  {
   "cell_type": "markdown",
   "metadata": {},
   "source": [
    "# Edit This Section\n",
    "This following code block is the only thing you need to edit. It is the path to the directory where all of the photos you want to analyze are located. Be sure to make sure that you are providing a global path to the directory where all of the photos you want to analyze are located."
   ]
  },
  {
   "cell_type": "code",
   "execution_count": 4,
   "metadata": {},
   "outputs": [],
   "source": [
    "# =================================================================\n",
    "#                      Edit this string\n",
    "file_path_to_images = '/Users/sammyrobens-paradise/Desktop/lights'\n",
    "# =================================================================\n"
   ]
  },
  {
   "cell_type": "markdown",
   "metadata": {},
   "source": [
    "## Install Dependencies"
   ]
  },
  {
   "cell_type": "code",
   "execution_count": 5,
   "metadata": {},
   "outputs": [],
   "source": [
    "# install dependencies\n",
    "import numpy as np\n",
    "import matplotlib.pyplot as plt"
   ]
  }
 ],
 "metadata": {
  "kernelspec": {
   "display_name": "Python 3",
   "language": "python",
   "name": "python3"
  },
  "language_info": {
   "codemirror_mode": {
    "name": "ipython",
    "version": 3
   },
   "file_extension": ".py",
   "mimetype": "text/x-python",
   "name": "python",
   "nbconvert_exporter": "python",
   "pygments_lexer": "ipython3",
   "version": "3.12.2"
  }
 },
 "nbformat": 4,
 "nbformat_minor": 2
}
